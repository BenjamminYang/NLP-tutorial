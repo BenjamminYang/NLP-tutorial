{
 "cells": [
  {
   "cell_type": "markdown",
   "metadata": {},
   "source": [
    "# Introduction to Natural Language Processing\n",
    "7th December, 2019\n",
    "\n",
    "Created by Grishma Jena\n"
   ]
  },
  {
   "cell_type": "code",
   "execution_count": null,
   "metadata": {},
   "outputs": [],
   "source": [
    "!pip install wikipedia\n",
    "try:\n",
    "    import numpy as np\n",
    "    import pandas as pd\n",
    "    import sklearn, lxml, requests, matplotlib, wikipedia, gensim, wordcloud\n",
    "    import nltk\n",
    "    nltk.download('punkt')\n",
    "    nltk.download('gutenberg')\n",
    "except:\n",
    "    print('Error!')\n",
    "print('Done! Everything works as expected.')"
   ]
  },
  {
   "cell_type": "code",
   "execution_count": null,
   "metadata": {},
   "outputs": [],
   "source": [
    "from nltk.corpus import gutenberg\n",
    "\n",
    "print(gutenberg.raw('austen-emma.txt')[:50]) #Printing the first 50 characters in file austen-emma.txt"
   ]
  }
 ],
 "metadata": {
  "kernelspec": {
   "display_name": "Python 3",
   "language": "python",
   "name": "python3"
  },
  "language_info": {
   "codemirror_mode": {
    "name": "ipython",
    "version": 3
   },
   "file_extension": ".py",
   "mimetype": "text/x-python",
   "name": "python",
   "nbconvert_exporter": "python",
   "pygments_lexer": "ipython3",
   "version": "3.7.3"
  }
 },
 "nbformat": 4,
 "nbformat_minor": 2
}
