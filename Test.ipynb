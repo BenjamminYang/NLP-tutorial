{
  "nbformat": 4,
  "nbformat_minor": 0,
  "metadata": {
    "colab": {
      "provenance": [],
      "authorship_tag": "ABX9TyNmmU0ijYIWRb/tTM3oU1Zi",
      "include_colab_link": true
    },
    "kernelspec": {
      "name": "python3",
      "display_name": "Python 3"
    },
    "language_info": {
      "name": "python"
    }
  },
  "cells": [
    {
      "cell_type": "markdown",
      "metadata": {
        "id": "view-in-github",
        "colab_type": "text"
      },
      "source": [
        "<a href=\"https://colab.research.google.com/github/BenjamminYang/NLP-tutorial/blob/master/Test.ipynb\" target=\"_parent\"><img src=\"https://colab.research.google.com/assets/colab-badge.svg\" alt=\"Open In Colab\"/></a>"
      ]
    },
    {
      "cell_type": "code",
      "execution_count": 1,
      "metadata": {
        "colab": {
          "base_uri": "https://localhost:8080/"
        },
        "id": "gLKXQSpcAChu",
        "outputId": "3680b38b-ecfd-4a27-b45f-621feed7f299"
      },
      "outputs": [
        {
          "output_type": "stream",
          "name": "stdout",
          "text": [
            "Looking in indexes: https://pypi.org/simple, https://us-python.pkg.dev/colab-wheels/public/simple/\n",
            "Collecting pyspark\n",
            "  Downloading pyspark-3.3.2.tar.gz (281.4 MB)\n",
            "\u001b[2K     \u001b[90m━━━━━━━━━━━━━━━━━━━━━━━━━━━━━━━━━━━━━━━\u001b[0m \u001b[32m281.4/281.4 MB\u001b[0m \u001b[31m3.0 MB/s\u001b[0m eta \u001b[36m0:00:00\u001b[0m\n",
            "\u001b[?25h  Preparing metadata (setup.py) ... \u001b[?25l\u001b[?25hdone\n",
            "Collecting py4j==0.10.9.5\n",
            "  Downloading py4j-0.10.9.5-py2.py3-none-any.whl (199 kB)\n",
            "\u001b[2K     \u001b[90m━━━━━━━━━━━━━━━━━━━━━━━━━━━━━━━━━━━━━━\u001b[0m \u001b[32m199.7/199.7 KB\u001b[0m \u001b[31m21.7 MB/s\u001b[0m eta \u001b[36m0:00:00\u001b[0m\n",
            "\u001b[?25hBuilding wheels for collected packages: pyspark\n",
            "  Building wheel for pyspark (setup.py) ... \u001b[?25l\u001b[?25hdone\n",
            "  Created wheel for pyspark: filename=pyspark-3.3.2-py2.py3-none-any.whl size=281824028 sha256=8ac502da1db81762597e36b33afc955635c4b55f825aa0f8f1799a9ec784d38e\n",
            "  Stored in directory: /root/.cache/pip/wheels/6c/e3/9b/0525ce8a69478916513509d43693511463c6468db0de237c86\n",
            "Successfully built pyspark\n",
            "Installing collected packages: py4j, pyspark\n",
            "  Attempting uninstall: py4j\n",
            "    Found existing installation: py4j 0.10.9.7\n",
            "    Uninstalling py4j-0.10.9.7:\n",
            "      Successfully uninstalled py4j-0.10.9.7\n",
            "Successfully installed py4j-0.10.9.5 pyspark-3.3.2\n"
          ]
        }
      ],
      "source": [
        "!pip install pyspark\n",
        "from pyspark.sql import SparkSession\n"
      ]
    },
    {
      "cell_type": "code",
      "source": [
        "from pyspark.conf import SparkConf\n",
        "from pyspark import SparkContext\n",
        "from pyspark.sql import SQLContext\n",
        "\n",
        "spark_test = SparkContext() \n",
        "config = spark_test.getConf()\n",
        "config.set('spark.cores.max','4')\n",
        "config.set('spark.executor.memory', '8G')\n",
        "config.set('spark.driver.maxResultSize', '8g')\n",
        "config.set('spark.kryoserializer.buffer.max', '512m')\n",
        "config.set(\"spark.driver.cores\", \"4\")\n",
        "\n",
        "spark_test.stop()"
      ],
      "metadata": {
        "id": "6fn3fcKEDsZF"
      },
      "execution_count": 3,
      "outputs": []
    },
    {
      "cell_type": "code",
      "source": [
        "spark_test = SparkContext(conf = config) \n",
        "sqlContext = SQLContext(spark_test)\n",
        "print(\"Using Apache Spark Version\", spark_test.version)"
      ],
      "metadata": {
        "colab": {
          "base_uri": "https://localhost:8080/"
        },
        "id": "i1G9TAAKD4Zc",
        "outputId": "cdf6d5f9-af8b-42cc-dd1e-362a1fbe794a"
      },
      "execution_count": 4,
      "outputs": [
        {
          "output_type": "stream",
          "name": "stdout",
          "text": [
            "Using Apache Spark Version 3.3.2\n"
          ]
        },
        {
          "output_type": "stream",
          "name": "stderr",
          "text": [
            "/usr/local/lib/python3.9/dist-packages/pyspark/sql/context.py:112: FutureWarning: Deprecated in 3.0.0. Use SparkSession.builder.getOrCreate() instead.\n",
            "  warnings.warn(\n"
          ]
        }
      ]
    },
    {
      "cell_type": "code",
      "source": [
        "#read csv\n",
        "cb_file = \"crunchbase_odm_orgs.csv\"\n",
        "cb_sdf = sqlContext.read.option(\"header\", \"true\").option(\"delimiter\", \",\").option(\"inferSchema\", \"true\").csv(cb_file)\n",
        "cb_sdf.count()"
      ],
      "metadata": {
        "colab": {
          "base_uri": "https://localhost:8080/"
        },
        "id": "L-8sG_onD5z3",
        "outputId": "c18a494a-0986-4326-a3a6-19a277e2ee8d"
      },
      "execution_count": 5,
      "outputs": [
        {
          "output_type": "execute_result",
          "data": {
            "text/plain": [
              "1127735"
            ]
          },
          "metadata": {},
          "execution_count": 5
        }
      ]
    },
    {
      "cell_type": "code",
      "source": [
        "cb_sdf.columns"
      ],
      "metadata": {
        "colab": {
          "base_uri": "https://localhost:8080/"
        },
        "id": "vJJCHPp8ERrz",
        "outputId": "d83ff2be-4574-4a5a-cb1c-9741f9895e00"
      },
      "execution_count": 6,
      "outputs": [
        {
          "output_type": "execute_result",
          "data": {
            "text/plain": [
              "['uuid',\n",
              " 'name',\n",
              " 'type',\n",
              " 'primary_role',\n",
              " 'cb_url',\n",
              " 'domain',\n",
              " 'homepage_url',\n",
              " 'logo_url',\n",
              " 'facebook_url',\n",
              " 'twitter_url',\n",
              " 'linkedin_url',\n",
              " 'combined_stock_symbols',\n",
              " 'city',\n",
              " 'region',\n",
              " 'country_code',\n",
              " 'short_description']"
            ]
          },
          "metadata": {},
          "execution_count": 6
        }
      ]
    },
    {
      "cell_type": "code",
      "source": [
        "from pyspark.sql.functions import col, size, split\n",
        "\n",
        "# Filter companies with name that is only two words\n",
        "two_word_companies = cb_sdf.filter(size(split(col(\"name\"), \" \")) == 2)\n",
        "\n",
        "# Print count of such companies\n",
        "print(\"Number of companies with name that is only two words:\", two_word_companies.count())\n",
        "\n",
        "# Show name and location (city, region, country_code) of such companies\n",
        "two_word_companies.select(\"name\", \"city\", \"region\", \"country_code\").show()\n"
      ],
      "metadata": {
        "colab": {
          "base_uri": "https://localhost:8080/"
        },
        "id": "N08PnzHisASt",
        "outputId": "9c654b62-126e-4fd3-8faf-15ffdf61d951"
      },
      "execution_count": 9,
      "outputs": [
        {
          "output_type": "stream",
          "name": "stdout",
          "text": [
            "Number of companies with name that is only two words: 362534\n",
            "+--------------------+----------------+----------+------------+\n",
            "|                name|            city|    region|country_code|\n",
            "+--------------------+----------------+----------+------------+\n",
            "|         Time Warner|        New York|  New York|         USA|\n",
            "|       Goldman Sachs|        New York|  New York|         USA|\n",
            "|     Jingle Networks|        New York|  New York|         USA|\n",
            "|Hearst Communicat...|        New York|  New York|         USA|\n",
            "|    Ning Interactive|      Menlo Park|California|         USA|\n",
            "| Prosper Marketplace|   San Francisco|California|         USA|\n",
            "|       Tribune Media|         Chicago|  Illinois|         USA|\n",
            "| Aggregate Knowledge|       San Mateo|California|         USA|\n",
            "|        Zing Systems|   Mountain View|California|         USA|\n",
            "|         Amie Street|Long Island City|  New York|         USA|\n",
            "|          Legg Mason|       Baltimore|  Maryland|         USA|\n",
            "|        Haute Secure|         Seattle|Washington|         USA|\n",
            "|          Squid Labs|         Alameda|California|         USA|\n",
            "|           SAY Media|   San Francisco|California|         USA|\n",
            "|Metaweb Technologies|   San Francisco|California|         USA|\n",
            "|          Mode Media|        Brisbane|California|         USA|\n",
            "|          Linden Lab|   San Francisco|California|         USA|\n",
            "| Broadband Mechanics|    Walnut Creek|California|         USA|\n",
            "|       TheFind, Inc.|   Mountain View|California|         USA|\n",
            "|          Cafe Press|      Louisville|  Colorado|         USA|\n",
            "+--------------------+----------------+----------+------------+\n",
            "only showing top 20 rows\n",
            "\n"
          ]
        }
      ]
    },
    {
      "cell_type": "code",
      "source": [
        "# Filter companies located in California\n",
        "california_companies = cb_sdf.filter(cb_sdf.region == \"California\")\n",
        "\n",
        "# Print count of such companies\n",
        "print(\"Number of companies located in California:\", california_companies.count())\n",
        "\n",
        "# Show name and location (city, region, country_code) of such companies\n",
        "california_companies.select(\"name\", \"city\", \"region\", \"country_code\").show()\n"
      ],
      "metadata": {
        "colab": {
          "base_uri": "https://localhost:8080/"
        },
        "id": "aDlyIuLatsXU",
        "outputId": "27366448-eacf-4d37-f495-56d0647a808b"
      },
      "execution_count": 10,
      "outputs": [
        {
          "output_type": "stream",
          "name": "stdout",
          "text": [
            "Number of companies located in California: 94871\n",
            "+--------------------+--------------+----------+------------+\n",
            "|                name|          city|    region|country_code|\n",
            "+--------------------+--------------+----------+------------+\n",
            "|                Zoho|    Pleasanton|California|         USA|\n",
            "|            Facebook|    Menlo Park|California|         USA|\n",
            "|               Accel|     Palo Alto|California|         USA|\n",
            "|           Omnidrive|     Palo Alto|California|         USA|\n",
            "|                Geni|West Hollywood|California|         USA|\n",
            "|             Flektor|   Culver City|California|         USA|\n",
            "|Fox Interactive M...| Beverly Hills|California|         USA|\n",
            "|             Twitter| San Francisco|California|         USA|\n",
            "|         StumbleUpon| San Francisco|California|         USA|\n",
            "|              Scribd| San Francisco|California|         USA|\n",
            "|             Slacker|     San Diego|California|         USA|\n",
            "|                Lala|     Palo Alto|California|         USA|\n",
            "|               Helio|   Los Angeles|California|         USA|\n",
            "|                eBay|      San Jose|California|         USA|\n",
            "|             Postini|    San Carlos|California|         USA|\n",
            "|               Plaxo|     Sunnyvale|California|         USA|\n",
            "|               Cisco|      San Jose|California|         USA|\n",
            "|            Powerset| San Francisco|California|         USA|\n",
            "|          Technorati| San Francisco|California|         USA|\n",
            "|               OpenX|      Pasadena|California|         USA|\n",
            "+--------------------+--------------+----------+------------+\n",
            "only showing top 20 rows\n",
            "\n"
          ]
        }
      ]
    },
    {
      "cell_type": "code",
      "source": [
        "from pyspark.sql.functions import when\n",
        "\n",
        "# Add a \"Blog\" column with row entries set to 1 if the \"domain\" field contains \"blogspot.com\", and 0 otherwise\n",
        "cb_sdf_with_blog = cb_sdf.withColumn(\"Blog\", when(cb_sdf.domain.contains(\"blogspot.com\"), 1).otherwise(0))\n",
        "\n",
        "# Filter companies with Blog marked as 1\n",
        "blog_companies = cb_sdf_with_blog.filter(cb_sdf_with_blog.Blog == 1)\n",
        "\n",
        "# Show name, location (city, region, country_code), and \"Blog\" column for companies with Blog marked as 1\n",
        "blog_companies.select(\"name\", \"city\", \"region\", \"country_code\", \"Blog\").show()\n"
      ],
      "metadata": {
        "colab": {
          "base_uri": "https://localhost:8080/"
        },
        "id": "ddZv2Kz_u9bK",
        "outputId": "1332f751-bbcd-4a89-d05a-6adc7652d92d"
      },
      "execution_count": 11,
      "outputs": [
        {
          "output_type": "stream",
          "name": "stdout",
          "text": [
            "+--------------------+-------------+------------+------------+----+\n",
            "|                name|         city|      region|country_code|Blog|\n",
            "+--------------------+-------------+------------+------------+----+\n",
            "|     Sad Urdu Poetry|  San Antonio|       Texas|         USA|   1|\n",
            "|      The Tech-Freak|    Sheffield|   Sheffield|         GBR|   1|\n",
            "|           Ma.Gnolia|San Francisco|  California|         USA|   1|\n",
            "|      Dynasty Online|         null|        null|        null|   1|\n",
            "|            Hire-seo|         null|        null|        null|   1|\n",
            "|          YelloYello|     Rijswijk|Zuid-Holland|         NLD|   1|\n",
            "|       Youtubehiphop|    São Paulo|   Sao Paulo|         BRA|   1|\n",
            "|     Payday advances|         null|        null|        null|   1|\n",
            "|Blog Traffic Exch...|   Menlo Park|  California|         USA|   1|\n",
            "|Sirius Forex Trad...|         null|        null|        null|   1|\n",
            "|          Utilsforge|     Delaware|        Ohio|         USA|   1|\n",
            "|      Discover India|    Faridabad|     Haryana|         IND|   1|\n",
            "|   Latest Home Decor|         null|        null|        null|   1|\n",
            "|Sanguinet Consulting|San Francisco|  California|         USA|   1|\n",
            "|  john kenneth rosel|San Francisco|  California|         USA|   1|\n",
            "|Web Solution Prov...|         null|        null|        null|   1|\n",
            "|Walking Ants Tech...|         null|        null|        null|   1|\n",
            "|      BypassFanPages|         null|        null|        null|   1|\n",
            "|      List Australia|    Melbourne|    Victoria|         AUS|   1|\n",
            "|NeverAnEmptyGlass...|   Scottsdale|     Arizona|         USA|   1|\n",
            "+--------------------+-------------+------------+------------+----+\n",
            "only showing top 20 rows\n",
            "\n"
          ]
        }
      ]
    },
    {
      "cell_type": "code",
      "source": [
        "# Filter the DataFrame for the company with name \"Sad Urdu Poetry\"\n",
        "sad_urdu_poetry = cb_sdf.filter(cb_sdf.name == \"Sad Urdu Poetry\")\n",
        "\n",
        "# Show the row with name \"Sad Urdu Poetry\"\n",
        "sad_urdu_poetry.show(truncate=False)\n"
      ],
      "metadata": {
        "colab": {
          "base_uri": "https://localhost:8080/"
        },
        "id": "EmE71W6BvnZb",
        "outputId": "44b7a630-b40e-43bd-d4d8-dbb60bda1203"
      },
      "execution_count": 12,
      "outputs": [
        {
          "output_type": "stream",
          "name": "stdout",
          "text": [
            "+------------------------------------+---------------+------------+------------+----------------------------------------------------------------------------------------------------------------+-----------------------------+--------------------------------------+--------------------------------------------------------------------------------------------------------------+---------------------------------------+-----------------------------+------------+----------------------+-----------+------+------------+---------------------------------------------------------------------------------+\n",
            "|uuid                                |name           |type        |primary_role|cb_url                                                                                                          |domain                       |homepage_url                          |logo_url                                                                                                      |facebook_url                           |twitter_url                  |linkedin_url|combined_stock_symbols|city       |region|country_code|short_description                                                                |\n",
            "+------------------------------------+---------------+------------+------------+----------------------------------------------------------------------------------------------------------------+-----------------------------+--------------------------------------+--------------------------------------------------------------------------------------------------------------+---------------------------------------+-----------------------------+------------+----------------------+-----------+------+------------+---------------------------------------------------------------------------------+\n",
            "|783b2aa6-7742-69e3-49c7-d5474e71adf1|Sad Urdu Poetry|organization|company     |https://www.crunchbase.com/organization/blogcatalog?utm_source=crunchbase&utm_medium=export&utm_campaign=odm_csv|urdupoetryluvers.blogspot.com|https://urdupoetryluvers.blogspot.com/|https://res.cloudinary.com/crunchbase-production/image/upload/v1397184882/525447e7147f8f233cdb021376741a58.jpg|http://www.facebook.com/urdupoetrylikes|http://twitter.com/AhmadJaami|null        |null                  |San Antonio|Texas |USA         |In this blog you will find beautiful and amazingn Urdu Poetry. Which inspire you.|\n",
            "+------------------------------------+---------------+------------+------------+----------------------------------------------------------------------------------------------------------------+-----------------------------+--------------------------------------+--------------------------------------------------------------------------------------------------------------+---------------------------------------+-----------------------------+------------+----------------------+-----------+------+------------+---------------------------------------------------------------------------------+\n",
            "\n"
          ]
        }
      ]
    },
    {
      "cell_type": "code",
      "source": [
        "from pyspark.sql.functions import udf\n",
        "from pyspark.sql.types import BooleanType\n",
        "\n",
        "# Define a Python function to check whether a string is a palindrome\n",
        "def is_palindrome(s):\n",
        "    if s is None:\n",
        "        return False\n",
        "    return s == s[::-1]\n",
        "\n",
        "# Register the function as a Spark UDF\n",
        "udf_is_palindrome = udf(is_palindrome, BooleanType())\n",
        "\n",
        "# Use the UDF to filter the DataFrame for palindromic company names\n",
        "palindromic_companies = cb_sdf.filter(udf_is_palindrome(cb_sdf.name))\n",
        "\n",
        "# Print the count of palindromic companies and show the name and location columns\n",
        "print(\"Count of palindromic companies:\", palindromic_companies.count())\n",
        "palindromic_companies.select(\"name\", \"city\", \"region\", \"country_code\").show()\n"
      ],
      "metadata": {
        "colab": {
          "base_uri": "https://localhost:8080/"
        },
        "id": "fvsLTWkmv_Kj",
        "outputId": "077694ef-9ef0-4716-b5e5-50e7abc3bf35"
      },
      "execution_count": 14,
      "outputs": [
        {
          "output_type": "stream",
          "name": "stdout",
          "text": [
            "Count of palindromic companies: 808\n",
            "+------+-------------+--------------+------------+\n",
            "|  name|         city|        region|country_code|\n",
            "+------+-------------+--------------+------------+\n",
            "| KAYAK|     Stamford|   Connecticut|         USA|\n",
            "| ooVoo|     New York|      New York|         USA|\n",
            "| 63336|       London|       England|         GBR|\n",
            "| TipiT|        Delft|  Zuid-Holland|         NLD|\n",
            "| beweb|     Auckland|      Auckland|         NZL|\n",
            "|   CSC| Falls Church|      Virginia|         USA|\n",
            "|   CBC|       Ottawa|       Ontario|         CAN|\n",
            "|   OQO|San Francisco|    California|         USA|\n",
            "|   SAS|         Cary|North Carolina|         USA|\n",
            "|   e4e|  Santa Clara|    California|         USA|\n",
            "|   PHP|  Little Rock|      Arkansas|         USA|\n",
            "|   ivi|       Moscow|   Moscow City|         RUS|\n",
            "|  ADDA|    Bangalore|     Karnataka|         IND|\n",
            "|izeezi|   Chippenham|     Wiltshire|         GBR|\n",
            "| siXis|       Durham|North Carolina|         USA|\n",
            "| STATS|      Chicago|      Illinois|         USA|\n",
            "|   8x8|     San Jose|    California|         USA|\n",
            "|   IXI|       Mclean|      Virginia|         USA|\n",
            "|   GLG|     New York|      New York|         USA|\n",
            "|   2e2|      Newbury|West Berkshire|         GBR|\n",
            "+------+-------------+--------------+------------+\n",
            "only showing top 20 rows\n",
            "\n"
          ]
        }
      ]
    }
  ]
}